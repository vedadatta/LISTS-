{
 "cells": [
  {
   "cell_type": "code",
   "execution_count": 1,
   "id": "5573e8a1-2adf-47c0-8435-be91152605c6",
   "metadata": {},
   "outputs": [
    {
     "name": "stdout",
     "output_type": "stream",
     "text": [
      "17\n"
     ]
    },
    {
     "data": {
      "text/plain": [
       "[2, 7, 6, 6, -5, 0, 1]"
      ]
     },
     "execution_count": 1,
     "metadata": {},
     "output_type": "execute_result"
    }
   ],
   "source": [
    "# Python program to compute the sum of digits of each number whether postive or negative in a given list. \n",
    "# below are the lists\n",
    "#LIS = [10, 2, 56] \n",
    "#LIS2 = [10, 20, 4, 5, 'b', 70, 'a']\n",
    "#LIS3 = [10, 20, -4, 5, -70]\n",
    "LIS4 = [2,-5667,10]\n",
    "a=[]\n",
    "def length_of_num(i):\n",
    "    counter = 0\n",
    "    n=1\n",
    "    while(i!=0):\n",
    "        n=abs(i)%10\n",
    "        a.append(n)\n",
    "        i=abs(i)//10\n",
    "        counter+=1\n",
    "    return counter\n",
    "\n",
    "\n",
    "n=0\n",
    "digits=[]\n",
    "x=0\n",
    "for i in LIS4:\n",
    "    if type(i) == int:\n",
    "        while(i>0):\n",
    "            n = i%10\n",
    "            digits.append(n)\n",
    "            i = i//10\n",
    "        while(i<0):        \n",
    "            i = abs(i)\n",
    "            n=i%10\n",
    "            for x in range(length_of_num(i)):\n",
    "                count = length_of_num(i)\n",
    "                if x  == count-1: \n",
    "                    if count == 1:\n",
    "                        digits.append(-i)\n",
    "                    else:\n",
    "                        digits.append(n)        \n",
    "              \n",
    "            i= i//10  \n",
    "            i = -i\n",
    "    else:\n",
    "        pass\n",
    "\n",
    "print(sum(digits))\n",
    "digits"
   ]
  }
 ],
 "metadata": {
  "kernelspec": {
   "display_name": "Python 3 (ipykernel)",
   "language": "python",
   "name": "python3"
  },
  "language_info": {
   "codemirror_mode": {
    "name": "ipython",
    "version": 3
   },
   "file_extension": ".py",
   "mimetype": "text/x-python",
   "name": "python",
   "nbconvert_exporter": "python",
   "pygments_lexer": "ipython3",
   "version": "3.9.7"
  }
 },
 "nbformat": 4,
 "nbformat_minor": 5
}
